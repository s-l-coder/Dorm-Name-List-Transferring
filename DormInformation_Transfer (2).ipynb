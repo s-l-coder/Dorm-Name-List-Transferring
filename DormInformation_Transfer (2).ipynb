{
 "cells": [
  {
   "cell_type": "code",
   "execution_count": 41,
   "id": "91f54822",
   "metadata": {},
   "outputs": [
    {
     "name": "stdout",
     "output_type": "stream",
     "text": [
      "\n",
      "處理文件：V3_1131113.csv\n",
      "自動檢測到的編碼：Big5，置信度：0.99\n",
      "成功使用 Big5 讀取文件\n",
      "前5行內容：\n",
      "    學年  學期   科系         學號      身份證/學號   姓名  宿舍   寢室   床號     金額     CHKIN日期    CHKOUT日期   離校    紀點  狀態             電話                     Email    就貸    低收           備注              電話2        國籍                 宗教               進住紀錄\n",
      "0  113   1  牙醫系  I94136044  J223123329  陳芊妤  勝三  524  1.0  10673  2024/09/06  2025/01/10  0.0  0/-0  正常    0966527930  i94136044@gs.ncku.edu.tw  none  none  113學年度大學部新生  \", 04-23816301\"  中華民國 ROC         佛教Buddhism  20240901 11:55:04\n",
      "1  113   1  藥學系  I84136050  B223746950  梁筑鈞  勝三  308  1.0  10673  2024/09/06  2025/01/10  0.0  0/-0  正常    0976068226  i84136050@gs.ncku.edu.tw  none  none  113學年度大學部新生  \", 04-26369086\"  中華民國 ROC   無宗教信仰No religion  20240830 13:02:23\n",
      "2  113   1  藥學系  I84136042  H226222168  田　馨  勝三  523  1.0  10673  2024/09/06  2025/01/10  0.0  0/-0  正常    0983803811  i84136042@gs.ncku.edu.tw  none  none  113學年度大學部新生        983803811  中華民國 ROC         佛教Buddhism  20240901 11:44:41\n",
      "3  113   1  藥學系  I84135321  D900204731  顏筱匯  勝三  524  2.0  15673  2024/08/30  2025/01/10  0.0  0/-0  正常  601135543796  i84135321@gs.ncku.edu.tw  none  none  113學年度大學部新生        900766950      馬來西亞         佛教Buddhism                NaN\n",
      "4  113   1  藥學系  I84134016  E226009546  李靜淵  勝三  309  2.0  10673  2024/09/06  2025/01/10  0.0  0/-0  正常    0925172183  i84134016@gs.ncku.edu.tw  none  none  113學年度大學部新生   \", 04-7264365\"  中華民國 ROC  無宗教信仰No religion1  20240830 09:08:53\n",
      "檢測到中文字符\n",
      "\n",
      "處理文件：B_V3_1131113.csv\n",
      "自動檢測到的編碼：Big5，置信度：0.99\n",
      "成功使用 Big5 讀取文件\n",
      "前5行內容：\n",
      "   勝三舍 113-1住宿 名單  科系  學號  姓名  電話  備註\n",
      "0             100 NaN NaN NaN NaN NaN\n",
      "1             100 NaN NaN NaN NaN NaN\n",
      "2             101 NaN NaN NaN NaN NaN\n",
      "3             101 NaN NaN NaN NaN NaN\n",
      "4             102 NaN NaN NaN NaN NaN\n",
      "警告：沒有檢測到中文字符，可能是編碼問題\n"
     ]
    },
    {
     "name": "stderr",
     "output_type": "stream",
     "text": [
      "C:\\Users\\Win10\\AppData\\Local\\Temp\\ipykernel_14244\\1393505231.py:47: FutureWarning: DataFrame.applymap has been deprecated. Use DataFrame.map instead.\n",
      "  has_chinese = df.applymap(lambda x: '\\u4e00' <= x <= '\\u9fff' if isinstance(x, str) else False).any().any()\n",
      "C:\\Users\\Win10\\AppData\\Local\\Temp\\ipykernel_14244\\1393505231.py:47: FutureWarning: DataFrame.applymap has been deprecated. Use DataFrame.map instead.\n",
      "  has_chinese = df.applymap(lambda x: '\\u4e00' <= x <= '\\u9fff' if isinstance(x, str) else False).any().any()\n"
     ]
    }
   ],
   "source": [
    "import pandas as pd\n",
    "import chardet\n",
    "\n",
    "def detect_file_encoding(file_path):\n",
    "    with open(file_path, 'rb') as file:\n",
    "        raw = file.read()\n",
    "        result = chardet.detect(raw)\n",
    "    return result['encoding'], result['confidence']\n",
    "\n",
    "def read_csv_with_encoding(file_path, encoding):\n",
    "    try:\n",
    "        df = pd.read_csv(file_path, encoding=encoding)\n",
    "        print(f\"成功使用 {encoding} 讀取文件\")\n",
    "        print(\"前5行內容：\")\n",
    "        print(df.head().to_string())\n",
    "        return df\n",
    "    except UnicodeDecodeError:\n",
    "        print(f\"{encoding} 編碼無法正確解碼文件\")\n",
    "        return None\n",
    "\n",
    "# 常用的中文編碼\n",
    "chinese_encodings = ['big5', 'gb18030', 'gb2312', 'gbk', 'utf-8', 'cp950']\n",
    "\n",
    "file_paths = [\"V3_1131113.csv\",\"B_V3_1131113.csv\"]\n",
    "\n",
    "for file_path in file_paths:\n",
    "    print(f\"\\n處理文件：{file_path}\")\n",
    "    \n",
    "    # 首先嘗試自動檢測\n",
    "    detected_encoding, confidence = detect_file_encoding(file_path)\n",
    "    print(f\"自動檢測到的編碼：{detected_encoding}，置信度：{confidence}\")\n",
    "    \n",
    "    # 嘗試自動檢測的編碼\n",
    "    df = read_csv_with_encoding(file_path, detected_encoding)\n",
    "    \n",
    "    # 如果自動檢測失敗，嘗試其他中文編碼\n",
    "    if df is None:\n",
    "        for encoding in chinese_encodings:\n",
    "            df = read_csv_with_encoding(file_path, encoding)\n",
    "            if df is not None:\n",
    "                break\n",
    "    \n",
    "    if df is None:\n",
    "        print(f\"無法找到正確的編碼來讀取 {file_path}\")\n",
    "    else:\n",
    "        # 檢查是否有中文字符\n",
    "        has_chinese = df.applymap(lambda x: '\\u4e00' <= x <= '\\u9fff' if isinstance(x, str) else False).any().any()\n",
    "        if has_chinese:\n",
    "            print(\"檢測到中文字符\")\n",
    "        else:\n",
    "            print(\"警告：沒有檢測到中文字符，可能是編碼問題\")"
   ]
  },
  {
   "cell_type": "code",
   "execution_count": 46,
   "id": "3a07685c",
   "metadata": {},
   "outputs": [],
   "source": [
    "import pandas as pd\n",
    "\n",
    "fileA=pd.read_csv(\"V3_1131113.csv\",encoding = 'UTF-8-SIG')\n",
    "fileB=pd.read_csv(\"B_V3_1131113.csv\",encoding = 'Big5')\n"
   ]
  },
  {
   "cell_type": "code",
   "execution_count": 47,
   "id": "7d4f27d3",
   "metadata": {},
   "outputs": [
    {
     "name": "stdout",
     "output_type": "stream",
     "text": [
      "fileA 的欄位：\n",
      "['學年', '學期', '科系', '學號', '身份證/學號', '姓名', '宿舍', '寢室', '床號', '金額', 'CHKIN日期', 'CHKOUT日期', '離校', '紀點', '狀態', '電話', 'Email', '就貸', '低收', '備注', '電話2', '國籍', '宗教', '進住紀錄']\n",
      "\n",
      "fileB 的欄位：\n",
      "['寢室', '科系', '學號', '姓名', '電話', '備註']\n",
      "\n",
      "檢查欄位名稱：\n",
      "欄位名稱：'寢室'\n",
      "字元編碼：[23522, 23460]\n",
      "欄位名稱：'科系'\n",
      "字元編碼：[31185, 31995]\n",
      "欄位名稱：'學號'\n",
      "字元編碼：[23416, 34399]\n",
      "欄位名稱：'姓名'\n",
      "字元編碼：[22995, 21517]\n",
      "欄位名稱：'電話'\n",
      "字元編碼：[38651, 35441]\n",
      "欄位名稱：'備註'\n",
      "字元編碼：[20633, 35387]\n",
      " \n",
      "\n",
      "fileB(範本檔)資料預覽：\n",
      "    寢室  科系  學號  姓名  電話  備註\n",
      "0  100 NaN NaN NaN NaN NaN\n",
      "1  100 NaN NaN NaN NaN NaN\n",
      "2  101 NaN NaN NaN NaN NaN\n",
      "3  101 NaN NaN NaN NaN NaN\n",
      "4  102 NaN NaN NaN NaN NaN\n"
     ]
    }
   ],
   "source": [
    "import unicodedata\n",
    "\n",
    "# 1. 先印出兩個檔案的欄位資訊\n",
    "print(\"fileA 的欄位：\")\n",
    "print(fileA.columns.tolist())\n",
    "print(\"\\nfileB 的欄位：\")\n",
    "print(fileB.columns.tolist())\n",
    "\n",
    "# 2. 檢查欄位名稱中的特殊字元\n",
    "print(\"\\n檢查欄位名稱：\")\n",
    "for col in fileB.columns:\n",
    "    print(f\"欄位名稱：'{col}'\")\n",
    "    print(f\"字元編碼：{[ord(c) for c in col]}\")\n",
    "\n",
    "fileA_room_list = fileA.drop_duplicates(subset=[\"寢室\"])[\"寢室\"].reset_index(drop=True)\n",
    "\n",
    "# 3. 嘗試修正欄位名稱\n",
    "# 移除空格\n",
    "fileB.columns = fileB.columns.str.strip()\n",
    "\n",
    "# 轉換全形為半形\n",
    "fileB.columns = [unicodedata.normalize('NFKC', col) for col in fileB.columns]\n",
    "\n",
    "# 4. 再次檢查是否有「寢室」欄位\n",
    "if '寢室' not in fileB.columns:\n",
    "    print(\"\\n警告：fileB(範本檔) 中仍然找不到「寢室」欄位\")\n",
    "    print(\"請檢查是否使用了不同的欄位名稱\")\n",
    "else:\n",
    "    # 5. 如果修正成功，執行原本的檢查\n",
    "    missing_rooms = set(fileA_room_list) - set(fileB[\"寢室\"])\n",
    "    if missing_rooms:\n",
    "        print(f\"\\n警告：這些寢室在fileB(範本檔)中找不到：{missing_rooms}\")\n",
    "        print(\"目前的欄位有：\", fileB.columns.tolist())\n",
    "\n",
    "print(\" \")\n",
    "print(f\"\\nfileB(範本檔)資料預覽：\")\n",
    "print(fileB.head())"
   ]
  },
  {
   "cell_type": "code",
   "execution_count": 48,
   "id": "0046d8ee",
   "metadata": {},
   "outputs": [
    {
     "name": "stderr",
     "output_type": "stream",
     "text": [
      "C:\\Users\\Win10\\AppData\\Local\\Temp\\ipykernel_14244\\254893935.py:12: FutureWarning: Setting an item of incompatible dtype is deprecated and will raise in a future error of pandas. Value '牙醫系' has dtype incompatible with float64, please explicitly cast to a compatible dtype first.\n",
      "  fileB.loc[new_room_index[new_room_people],k] = fileA[k][j]\n",
      "C:\\Users\\Win10\\AppData\\Local\\Temp\\ipykernel_14244\\254893935.py:12: FutureWarning: Setting an item of incompatible dtype is deprecated and will raise in a future error of pandas. Value 'I94136044' has dtype incompatible with float64, please explicitly cast to a compatible dtype first.\n",
      "  fileB.loc[new_room_index[new_room_people],k] = fileA[k][j]\n",
      "C:\\Users\\Win10\\AppData\\Local\\Temp\\ipykernel_14244\\254893935.py:12: FutureWarning: Setting an item of incompatible dtype is deprecated and will raise in a future error of pandas. Value '陳芊妤' has dtype incompatible with float64, please explicitly cast to a compatible dtype first.\n",
      "  fileB.loc[new_room_index[new_room_people],k] = fileA[k][j]\n",
      "C:\\Users\\Win10\\AppData\\Local\\Temp\\ipykernel_14244\\254893935.py:12: FutureWarning: Setting an item of incompatible dtype is deprecated and will raise in a future error of pandas. Value '0966527930' has dtype incompatible with float64, please explicitly cast to a compatible dtype first.\n",
      "  fileB.loc[new_room_index[new_room_people],k] = fileA[k][j]\n"
     ]
    }
   ],
   "source": [
    "fileA = fileA[fileA[\"金額\"]>=0]\n",
    "fileA_room_list = fileA.drop_duplicates(subset=[\"寢室\"])[\"寢室\"].reset_index(drop=True)\n",
    "fileB_column = fileB.columns\n",
    "\n",
    "for i in fileA_room_list:\n",
    "    roommate_index = fileA[fileA[\"寢室\"] == i].index\n",
    "    new_room_index = fileB[fileB[\"寢室\"] == i].index\n",
    "    new_room_people = 0\n",
    "    for j in roommate_index:\n",
    "        for k in fileB_column:\n",
    "            if(k in fileA.columns):\n",
    "                fileB.loc[new_room_index[new_room_people],k] = fileA[k][j]\n",
    "        new_room_people = new_room_people+1\n",
    "        "
   ]
  },
  {
   "cell_type": "code",
   "execution_count": 49,
   "id": "f4049d6a",
   "metadata": {},
   "outputs": [
    {
     "name": "stdout",
     "output_type": "stream",
     "text": [
      "Warning: Room 228 has different number of people: A=1, B=2\n",
      "Warning: Room 102 has different number of people: A=1, B=2\n",
      "Warning: Room 307 has different number of people: A=1, B=2\n"
     ]
    }
   ],
   "source": [
    "# 檢查寢室是否存在\n",
    "missing_rooms = set(fileA_room_list) - set(fileB[\"寢室\"])\n",
    "if missing_rooms:\n",
    "    print(f\"Warning: These rooms are missing in fileB: {missing_rooms}\")\n",
    "\n",
    "# 檢查每個寢室的人數是否相符\n",
    "for room in fileA_room_list:\n",
    "    count_A = len(fileA[fileA[\"寢室\"] == room])\n",
    "    count_B = len(fileB[fileB[\"寢室\"] == room])\n",
    "    if count_A != count_B:\n",
    "        print(f\"Warning: Room {room} has different number of people: A={count_A}, B={count_B}\")"
   ]
  },
  {
   "cell_type": "code",
   "execution_count": 50,
   "id": "5eaa48a7",
   "metadata": {},
   "outputs": [
    {
     "name": "stdout",
     "output_type": "stream",
     "text": [
      "    寢室   科系          學號   姓名           電話  備註\n",
      "0  100  法律系   D24111127  吳宜芳  0911334323 NaN\n",
      "1  100  法律系   D24111054  張瀚尹  0905285245 NaN\n",
      "2  101  生科系   C54086212  陳昱妏  0919527230 NaN\n",
      "3  101   外校  S221211270  陳姿蓉  0919653067 NaN\n",
      "4  102  企管系   H44111069  陳恩婕  0903122689 NaN\n",
      "輸出的 CSV 檔案成功包含中文字符\n"
     ]
    },
    {
     "name": "stderr",
     "output_type": "stream",
     "text": [
      "C:\\Users\\Win10\\AppData\\Local\\Temp\\ipykernel_14244\\4063389988.py:12: FutureWarning: DataFrame.applymap has been deprecated. Use DataFrame.map instead.\n",
      "  has_chinese = df_check.applymap(lambda x: '\\u4e00' <= x <= '\\u9fff' if isinstance(x, str) else False).any().any()\n"
     ]
    }
   ],
   "source": [
    "# 假設我們已經正確讀取了檔案\n",
    "# fileB = pd.read_csv(\"B_V1_1130925.csv\", encoding='big5')  # 或其他正確的編碼\n",
    "\n",
    "# 輸出 CSV 檔案，指定 UTF-8 編碼\n",
    "fileB.to_csv(\"名單程式轉換result_V3_1131113.csv\", encoding='utf-8-sig', index=False)\n",
    "\n",
    "# 驗證輸出\n",
    "df_check = pd.read_csv(\"名單程式轉換result_V3_1131113.csv\", encoding='utf-8-sig')\n",
    "print(df_check.head())\n",
    "\n",
    "# 檢查是否包含中文字符\n",
    "has_chinese = df_check.applymap(lambda x: '\\u4e00' <= x <= '\\u9fff' if isinstance(x, str) else False).any().any()\n",
    "if has_chinese:\n",
    "    print(\"輸出的 CSV 檔案成功包含中文字符\")\n",
    "else:\n",
    "    print(\"警告：輸出的 CSV 檔案可能沒有包含中文字符，請檢查原始數據\")\n"
   ]
  },
  {
   "cell_type": "code",
   "execution_count": 8,
   "id": "6029b4b2",
   "metadata": {},
   "outputs": [],
   "source": [
    "fileB.to_csv(\"名單程式轉換result_V1_1131113.csv\")"
   ]
  }
 ],
 "metadata": {
  "kernelspec": {
   "display_name": "Python 3 (ipykernel)",
   "language": "python",
   "name": "python3"
  },
  "language_info": {
   "codemirror_mode": {
    "name": "ipython",
    "version": 3
   },
   "file_extension": ".py",
   "mimetype": "text/x-python",
   "name": "python",
   "nbconvert_exporter": "python",
   "pygments_lexer": "ipython3",
   "version": "3.11.7"
  }
 },
 "nbformat": 4,
 "nbformat_minor": 5
}
